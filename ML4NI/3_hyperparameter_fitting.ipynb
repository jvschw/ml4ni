{
 "cells": [
  {
   "cell_type": "markdown",
   "metadata": {},
   "source": [
    "**Notebook 3 – Hyperparameter Fitting**\n",
    "\n",
    "_This notebook introduces how to search for optimal learning parameters._\n",
    "jens.schwarzbach@ukr.de"
   ]
  },
  {
   "cell_type": "markdown",
   "metadata": {},
   "source": [
    "<table align=\"left\">\n",
    "  <td>\n",
    "    <a target=\"_blank\" href=\"https://colab.research.google.com/github/jvschw/ml4ni/blob/master/ML4NI/3_hyperparameter_fitting.ipynb\"><img src=\"https://www.tensorflow.org/images/colab_logo_32px.png\" />Run in Google Colab</a>\n",
    "  </td>\n",
    "</table>"
   ]
  },
  {
   "cell_type": "markdown",
   "metadata": {},
   "source": [
    "# Hyperparameter Fitting"
   ]
  },
  {
   "cell_type": "markdown",
   "metadata": {},
   "source": [
    "Neural Network Models have many free parameters, most importantly the weights between different units. But machine leaning also knows hyperparameters, which are parameters of a learning algorithm (not of the model). "
   ]
  },
  {
   "cell_type": "markdown",
   "metadata": {},
   "source": [
    "<img src=\"images/hyper/hyper.png\">"
   ]
  },
  {
   "cell_type": "markdown",
   "metadata": {},
   "source": [
    "When training a deep neural network on a given problem there is no known way to know the optimal hyperparameters ahead of time. Instead, we need to search for them.\n",
    "\n",
    "The general strategy looks like this."
   ]
  },
  {
   "cell_type": "code",
   "execution_count": null,
   "metadata": {},
   "outputs": [],
   "source": [
    "from sklearn.model_selection import GridSearchCV\n",
    "\n",
    "n_neurons = [300]; #classically not considered a hyper parameter\n",
    "learn_rate = [0.001, 0.01, 0.1, 0.2]\n",
    "momentum = [0.0, 0.2, 0.4, 0.6, 0.8]\n",
    "param_grid = dict(learn_rate=learn_rate, momentum=momentum, n_neurons=n_neurons)\n",
    "\n",
    "\n",
    "grid = GridSearchCV(estimator=model, param_grid=param_grid, n_jobs=-1, cv=10)\n",
    "grid_result = grid.fit(X, Y)\n"
   ]
  },
  {
   "cell_type": "markdown",
   "metadata": {},
   "source": [
    "Below, find the full pipeline for our foot-finger-tongue mapper."
   ]
  },
  {
   "cell_type": "code",
   "execution_count": 1,
   "metadata": {},
   "outputs": [
    {
     "name": "stdout",
     "output_type": "stream",
     "text": [
      "Data dimensionality is: (64, 100, 67, 66)\n",
      "Dimensionality of flattened and masked feature matrix:  (66, 104578)\n",
      "2 300 0.001\n",
      "Train on 60 samples\n",
      "Epoch 1/20\n",
      "60/60 - 1s - loss: 3.0989 - accuracy: 0.4500\n",
      "Epoch 2/20\n",
      "60/60 - 1s - loss: 0.5471 - accuracy: 0.9000\n",
      "Epoch 3/20\n",
      "60/60 - 1s - loss: 0.1043 - accuracy: 0.9833\n",
      "Epoch 4/20\n",
      "60/60 - 1s - loss: 0.0284 - accuracy: 1.0000\n",
      "Epoch 5/20\n",
      "60/60 - 1s - loss: 0.0212 - accuracy: 1.0000\n",
      "Epoch 6/20\n",
      "60/60 - 1s - loss: 0.0175 - accuracy: 1.0000\n",
      "Epoch 7/20\n",
      "60/60 - 1s - loss: 0.0143 - accuracy: 1.0000\n",
      "Epoch 8/20\n",
      "60/60 - 1s - loss: 0.0124 - accuracy: 1.0000\n",
      "Epoch 9/20\n",
      "60/60 - 1s - loss: 0.0110 - accuracy: 1.0000\n",
      "Epoch 10/20\n",
      "60/60 - 1s - loss: 0.0099 - accuracy: 1.0000\n",
      "Epoch 11/20\n",
      "60/60 - 1s - loss: 0.0089 - accuracy: 1.0000\n",
      "Epoch 12/20\n",
      "60/60 - 1s - loss: 0.0082 - accuracy: 1.0000\n",
      "Epoch 13/20\n",
      "60/60 - 1s - loss: 0.0075 - accuracy: 1.0000\n",
      "Epoch 14/20\n",
      "60/60 - 1s - loss: 0.0070 - accuracy: 1.0000\n",
      "Epoch 15/20\n",
      "60/60 - 1s - loss: 0.0065 - accuracy: 1.0000\n",
      "Epoch 16/20\n",
      "60/60 - 1s - loss: 0.0061 - accuracy: 1.0000\n",
      "Epoch 17/20\n",
      "60/60 - 1s - loss: 0.0057 - accuracy: 1.0000\n",
      "Epoch 18/20\n",
      "60/60 - 1s - loss: 0.0054 - accuracy: 1.0000\n",
      "Epoch 19/20\n",
      "60/60 - 1s - loss: 0.0051 - accuracy: 1.0000\n",
      "Epoch 20/20\n",
      "60/60 - 1s - loss: 0.0048 - accuracy: 1.0000\n",
      "Best: 0.950000 using {'learn_rate': 0.001, 'momentum': 0.0, 'n_neurons': 300}\n",
      "0.816667 (0.138444) with: {'learn_rate': 0.001, 'momentum': 0.0, 'n_neurons': 10}\n",
      "0.833333 (0.197203) with: {'learn_rate': 0.001, 'momentum': 0.0, 'n_neurons': 50}\n",
      "0.850000 (0.089753) with: {'learn_rate': 0.001, 'momentum': 0.0, 'n_neurons': 100}\n",
      "0.950000 (0.076376) with: {'learn_rate': 0.001, 'momentum': 0.0, 'n_neurons': 300}\n",
      "0.716667 (0.183333) with: {'learn_rate': 0.001, 'momentum': 0.2, 'n_neurons': 10}\n",
      "0.916667 (0.153659) with: {'learn_rate': 0.001, 'momentum': 0.2, 'n_neurons': 50}\n",
      "0.900000 (0.133333) with: {'learn_rate': 0.001, 'momentum': 0.2, 'n_neurons': 100}\n",
      "0.933333 (0.110554) with: {'learn_rate': 0.001, 'momentum': 0.2, 'n_neurons': 300}\n",
      "0.633333 (0.145297) with: {'learn_rate': 0.001, 'momentum': 0.4, 'n_neurons': 10}\n",
      "0.933333 (0.110554) with: {'learn_rate': 0.001, 'momentum': 0.4, 'n_neurons': 50}\n",
      "0.933333 (0.200000) with: {'learn_rate': 0.001, 'momentum': 0.4, 'n_neurons': 100}\n",
      "0.933333 (0.110554) with: {'learn_rate': 0.001, 'momentum': 0.4, 'n_neurons': 300}\n",
      "0.633333 (0.145297) with: {'learn_rate': 0.001, 'momentum': 0.6, 'n_neurons': 10}\n",
      "0.866667 (0.145297) with: {'learn_rate': 0.001, 'momentum': 0.6, 'n_neurons': 50}\n",
      "0.916667 (0.111803) with: {'learn_rate': 0.001, 'momentum': 0.6, 'n_neurons': 100}\n",
      "0.916667 (0.083333) with: {'learn_rate': 0.001, 'momentum': 0.6, 'n_neurons': 300}\n",
      "0.566667 (0.200000) with: {'learn_rate': 0.001, 'momentum': 0.8, 'n_neurons': 10}\n",
      "0.816667 (0.050000) with: {'learn_rate': 0.001, 'momentum': 0.8, 'n_neurons': 50}\n",
      "0.900000 (0.152753) with: {'learn_rate': 0.001, 'momentum': 0.8, 'n_neurons': 100}\n",
      "0.900000 (0.110554) with: {'learn_rate': 0.001, 'momentum': 0.8, 'n_neurons': 300}\n",
      "0.416667 (0.214087) with: {'learn_rate': 0.01, 'momentum': 0.0, 'n_neurons': 10}\n",
      "0.683333 (0.216667) with: {'learn_rate': 0.01, 'momentum': 0.0, 'n_neurons': 50}\n",
      "0.700000 (0.163299) with: {'learn_rate': 0.01, 'momentum': 0.0, 'n_neurons': 100}\n",
      "0.700000 (0.244949) with: {'learn_rate': 0.01, 'momentum': 0.0, 'n_neurons': 300}\n",
      "0.383333 (0.167498) with: {'learn_rate': 0.01, 'momentum': 0.2, 'n_neurons': 10}\n",
      "0.600000 (0.226078) with: {'learn_rate': 0.01, 'momentum': 0.2, 'n_neurons': 50}\n",
      "0.533333 (0.208167) with: {'learn_rate': 0.01, 'momentum': 0.2, 'n_neurons': 100}\n",
      "0.733333 (0.200000) with: {'learn_rate': 0.01, 'momentum': 0.2, 'n_neurons': 300}\n",
      "0.333333 (0.166667) with: {'learn_rate': 0.01, 'momentum': 0.4, 'n_neurons': 10}\n",
      "0.566667 (0.226078) with: {'learn_rate': 0.01, 'momentum': 0.4, 'n_neurons': 50}\n",
      "0.266667 (0.213437) with: {'learn_rate': 0.01, 'momentum': 0.4, 'n_neurons': 100}\n",
      "0.300000 (0.208167) with: {'learn_rate': 0.01, 'momentum': 0.4, 'n_neurons': 300}\n",
      "0.183333 (0.089753) with: {'learn_rate': 0.01, 'momentum': 0.6, 'n_neurons': 10}\n",
      "0.200000 (0.100000) with: {'learn_rate': 0.01, 'momentum': 0.6, 'n_neurons': 50}\n",
      "0.200000 (0.066667) with: {'learn_rate': 0.01, 'momentum': 0.6, 'n_neurons': 100}\n",
      "0.166667 (0.000000) with: {'learn_rate': 0.01, 'momentum': 0.6, 'n_neurons': 300}\n",
      "0.183333 (0.050000) with: {'learn_rate': 0.01, 'momentum': 0.8, 'n_neurons': 10}\n",
      "0.166667 (0.000000) with: {'learn_rate': 0.01, 'momentum': 0.8, 'n_neurons': 50}\n",
      "0.166667 (0.000000) with: {'learn_rate': 0.01, 'momentum': 0.8, 'n_neurons': 100}\n",
      "0.166667 (0.000000) with: {'learn_rate': 0.01, 'momentum': 0.8, 'n_neurons': 300}\n",
      "0.166667 (0.000000) with: {'learn_rate': 0.1, 'momentum': 0.0, 'n_neurons': 10}\n",
      "0.166667 (0.000000) with: {'learn_rate': 0.1, 'momentum': 0.0, 'n_neurons': 50}\n",
      "0.166667 (0.000000) with: {'learn_rate': 0.1, 'momentum': 0.0, 'n_neurons': 100}\n",
      "0.166667 (0.000000) with: {'learn_rate': 0.1, 'momentum': 0.0, 'n_neurons': 300}\n",
      "0.166667 (0.000000) with: {'learn_rate': 0.1, 'momentum': 0.2, 'n_neurons': 10}\n",
      "0.166667 (0.000000) with: {'learn_rate': 0.1, 'momentum': 0.2, 'n_neurons': 50}\n",
      "0.166667 (0.000000) with: {'learn_rate': 0.1, 'momentum': 0.2, 'n_neurons': 100}\n",
      "0.166667 (0.000000) with: {'learn_rate': 0.1, 'momentum': 0.2, 'n_neurons': 300}\n",
      "0.150000 (0.050000) with: {'learn_rate': 0.1, 'momentum': 0.4, 'n_neurons': 10}\n",
      "0.166667 (0.000000) with: {'learn_rate': 0.1, 'momentum': 0.4, 'n_neurons': 50}\n",
      "0.166667 (0.000000) with: {'learn_rate': 0.1, 'momentum': 0.4, 'n_neurons': 100}\n",
      "0.166667 (0.000000) with: {'learn_rate': 0.1, 'momentum': 0.4, 'n_neurons': 300}\n",
      "0.166667 (0.000000) with: {'learn_rate': 0.1, 'momentum': 0.6, 'n_neurons': 10}\n",
      "0.166667 (0.000000) with: {'learn_rate': 0.1, 'momentum': 0.6, 'n_neurons': 50}\n",
      "0.166667 (0.000000) with: {'learn_rate': 0.1, 'momentum': 0.6, 'n_neurons': 100}\n",
      "0.166667 (0.000000) with: {'learn_rate': 0.1, 'momentum': 0.6, 'n_neurons': 300}\n",
      "0.166667 (0.000000) with: {'learn_rate': 0.1, 'momentum': 0.8, 'n_neurons': 10}\n",
      "0.166667 (0.000000) with: {'learn_rate': 0.1, 'momentum': 0.8, 'n_neurons': 50}\n",
      "0.166667 (0.000000) with: {'learn_rate': 0.1, 'momentum': 0.8, 'n_neurons': 100}\n",
      "0.166667 (0.000000) with: {'learn_rate': 0.1, 'momentum': 0.8, 'n_neurons': 300}\n",
      "0.166667 (0.000000) with: {'learn_rate': 0.2, 'momentum': 0.0, 'n_neurons': 10}\n",
      "0.166667 (0.000000) with: {'learn_rate': 0.2, 'momentum': 0.0, 'n_neurons': 50}\n",
      "0.166667 (0.000000) with: {'learn_rate': 0.2, 'momentum': 0.0, 'n_neurons': 100}\n",
      "0.166667 (0.000000) with: {'learn_rate': 0.2, 'momentum': 0.0, 'n_neurons': 300}\n",
      "0.166667 (0.000000) with: {'learn_rate': 0.2, 'momentum': 0.2, 'n_neurons': 10}\n",
      "0.166667 (0.000000) with: {'learn_rate': 0.2, 'momentum': 0.2, 'n_neurons': 50}\n",
      "0.166667 (0.000000) with: {'learn_rate': 0.2, 'momentum': 0.2, 'n_neurons': 100}\n",
      "0.166667 (0.000000) with: {'learn_rate': 0.2, 'momentum': 0.2, 'n_neurons': 300}\n",
      "0.166667 (0.000000) with: {'learn_rate': 0.2, 'momentum': 0.4, 'n_neurons': 10}\n",
      "0.166667 (0.000000) with: {'learn_rate': 0.2, 'momentum': 0.4, 'n_neurons': 50}\n",
      "0.166667 (0.000000) with: {'learn_rate': 0.2, 'momentum': 0.4, 'n_neurons': 100}\n",
      "0.166667 (0.000000) with: {'learn_rate': 0.2, 'momentum': 0.4, 'n_neurons': 300}\n",
      "0.166667 (0.000000) with: {'learn_rate': 0.2, 'momentum': 0.6, 'n_neurons': 10}\n",
      "0.166667 (0.000000) with: {'learn_rate': 0.2, 'momentum': 0.6, 'n_neurons': 50}\n",
      "0.166667 (0.000000) with: {'learn_rate': 0.2, 'momentum': 0.6, 'n_neurons': 100}\n",
      "0.166667 (0.000000) with: {'learn_rate': 0.2, 'momentum': 0.6, 'n_neurons': 300}\n",
      "0.166667 (0.000000) with: {'learn_rate': 0.2, 'momentum': 0.8, 'n_neurons': 10}\n",
      "0.166667 (0.000000) with: {'learn_rate': 0.2, 'momentum': 0.8, 'n_neurons': 50}\n",
      "0.166667 (0.000000) with: {'learn_rate': 0.2, 'momentum': 0.8, 'n_neurons': 100}\n",
      "0.166667 (0.000000) with: {'learn_rate': 0.2, 'momentum': 0.8, 'n_neurons': 300}\n"
     ]
    }
   ],
   "source": [
    "# Python ≥3.5 is required\n",
    "import sys\n",
    "assert sys.version_info >= (3, 5)\n",
    "\n",
    "# Scikit-Learn ≥0.20 is required\n",
    "import sklearn\n",
    "assert sklearn.__version__ >= \"0.20\"\n",
    "\n",
    "try:\n",
    "    # %tensorflow_version only exists in Colab.\n",
    "    %tensorflow_version 2.x\n",
    "except Exception:\n",
    "    pass\n",
    "\n",
    "# TensorFlow ≥2.0 is required\n",
    "import tensorflow as tf\n",
    "assert tf.__version__ >= \"2.0\"\n",
    "\n",
    "# Common imports\n",
    "import numpy as np\n",
    "import os\n",
    "\n",
    "# to make this notebook's output stable across runs\n",
    "np.random.seed(42)\n",
    "\n",
    "import tensorflow as tf\n",
    "from tensorflow import keras\n",
    "\n",
    "# Use scikit-learn to grid search the learning rate and momentum\n",
    "import numpy\n",
    "from sklearn.model_selection import GridSearchCV\n",
    "from tensorflow.keras.models import Sequential\n",
    "from tensorflow.keras.layers import Dense\n",
    "from tensorflow.keras.wrappers.scikit_learn import KerasClassifier\n",
    "from tensorflow.keras.optimizers import SGD\n",
    "\n",
    "# Function to create model, required for KerasClassifier\n",
    "def create_model(n_hidden=2, n_neurons=30, learn_rate=3e-3, momentum=0, nFeatures=100):\n",
    "    print(n_hidden, n_neurons, learn_rate)\n",
    "    model = keras.models.Sequential()   \n",
    "    model.add(keras.layers.Flatten(input_shape=(nFeatures,)))\n",
    "    for layer in range(n_hidden):\n",
    "        model.add(keras.layers.Dense(n_neurons, activation=\"relu\"))\n",
    "    model.add(keras.layers.Dense(6, activation=\"softmax\"))\n",
    "    optimizer = keras.optimizers.SGD(lr=learn_rate, momentum=momentum)\n",
    "    model.compile(loss=\"sparse_categorical_crossentropy\", optimizer=optimizer, metrics=[\"accuracy\"])\n",
    "    return model\n",
    "\n",
    "import nibabel as nib #if this throws an error consider 'python3 -m pip install -U nibabel'\n",
    "\n",
    "def load_data():\n",
    "    #load a structural scan and use brain voxels as mask for statistical parameter maps (SPMs)\n",
    "    \n",
    "    #Load structural scan\n",
    "    #ref_anat = '/content/ml4ni/ML4NI/parameterMaps/FFT001_T1_lores.nii.gz'\n",
    "    ref_anat = './parameterMaps/FFT001_T1_lores.nii.gz'\n",
    "    imgT1 = nib.load(ref_anat)\n",
    "    \n",
    "    #extract features (voxel intensities of the structural scan)\n",
    "    XT1 = imgT1.get_fdata() \n",
    "    \n",
    "    #create mask from structural scan where voxels have a value higher than 0\n",
    "    msk2 = XT1>0 \n",
    "    nMaskedVoxels = msk2.sum()\n",
    "    \n",
    "    #Load SPMs (stacked 3D maps)\n",
    "    #fNameSPM = '/content/ml4ni/ML4NI/parameterMaps/FFT001.nii.gz'\n",
    "    fNameSPM = './parameterMaps/FFT001.nii.gz'\n",
    "    imgSPM = nib.load(fNameSPM)\n",
    "    \n",
    "    #extract features (t-values)\n",
    "    XSPM = imgSPM.get_fdata() \n",
    "    print(\"Data dimensionality is:\", XSPM.shape)\n",
    "    nMaps=XSPM.shape[3]\n",
    "    \n",
    "    #create flattened and masked feature matrix[nMaps,nFeaturesInsideBrain]\n",
    "    XflatMasked = np.empty([nMaps, nMaskedVoxels])\n",
    "    for iMap in range(nMaps):\n",
    "        #extract one flattened map\n",
    "        tmpFlat = XSPM[:, :, :,iMap].flatten()\n",
    "        #mask flattened map and assign to feature matrix\n",
    "        XflatMasked[iMap,:]=tmpFlat[XT1.flatten()>0] \n",
    "    print(\"Dimensionality of flattened and masked feature matrix: \", XflatMasked.shape)    \n",
    "    \n",
    "    #SPLIT EXECUTION DATA (MAPS 1:60) FROM IMAGERY DATA (MAPS 61-66)\n",
    "    #first 60 maps 10 runs with 6 conditions each\n",
    "    dataLearn=XflatMasked[:60] \n",
    "    #last 6 maps (run 11 with 6 conditions). This is not really a holdout map, since this\n",
    "    #is imagery data, whereas the first 60 maps are execution data\n",
    "    dataHoldout=XflatMasked[60:] \n",
    "    \n",
    "    #CREATE LABELS\n",
    "    #labels\n",
    "    #chunks = np.empty([66, 1], dtype=int) #run number [not yet used]\n",
    "    labels = np.empty([nMaps, 1], dtype=int) #condition number\n",
    "    counter=0\n",
    "    for iRun in range(11):\n",
    "        for iCond in range(6):\n",
    "            #chunks[counter] = iRun #11 runs (0-10)\n",
    "            labels[counter] = iCond #6 conditions (0-5)\n",
    "            counter+=1\n",
    "    labelsLearn=labels[:60] #first 60 (0:59) execution\n",
    "    labelsHoldout=labels[60:] #last 6 (60:65) imagery\n",
    "    \n",
    "    class_names=[\"FingL\", \"FingR\", \"FootL\", \"FootR\", \"TongueL\", \"TongueR\"]  \n",
    "    \n",
    "    return dataLearn, labelsLearn, dataHoldout, labelsHoldout, class_names, msk2;\n",
    "\n",
    "\n",
    "\n",
    "# fix random seed for reproducibility\n",
    "seed = 7\n",
    "numpy.random.seed(seed)\n",
    "# load dataset\n",
    "#----------------------------------------------------------\n",
    "#load data\n",
    "#----------------------------------------------------------\n",
    "dataLearn, labelsLearn, dataHoldout, labelsHoldout, class_names, msk2 = load_data()\n",
    "X = dataLearn\n",
    "Y = labelsLearn\n",
    "nFeatures=dataLearn.shape[1]\n",
    "\n",
    "# create model\n",
    "model = KerasClassifier(build_fn=create_model, nFeatures=nFeatures, epochs=20, batch_size=6, verbose=2)\n",
    "\n",
    "#----------------------------------------------------------\n",
    "# define the grid search parameters\n",
    "#----------------------------------------------------------\n",
    "n_neurons = [10, 50, 100, 300];\n",
    "learn_rate = [0.001, 0.01, 0.1, 0.2]\n",
    "momentum = [0.0, 0.2, 0.4, 0.6, 0.8]\n",
    "param_grid = dict(learn_rate=learn_rate, momentum=momentum, n_neurons=n_neurons)\n",
    "\n",
    "\n",
    "#----------------------------------------------------------\n",
    "# S E A R C H\n",
    "#----------------------------------------------------------\n",
    "grid = GridSearchCV(estimator=model, param_grid=param_grid, n_jobs=-1, cv=10)\n",
    "grid_result = grid.fit(X, Y)\n",
    "\n",
    "\n",
    "#----------------------------------------------------------\n",
    "# summarize results\n",
    "#----------------------------------------------------------\n",
    "print(\"Best: %f using %s\" % (grid_result.best_score_, grid_result.best_params_))\n",
    "means = grid_result.cv_results_['mean_test_score']\n",
    "stds = grid_result.cv_results_['std_test_score']\n",
    "params = grid_result.cv_results_['params']\n",
    "for mean, stdev, param in zip(means, stds, params):\n",
    "    print(\"%f (%f) with: %r\" % (mean, stdev, param))\n"
   ]
  },
  {
   "cell_type": "code",
   "execution_count": 33,
   "metadata": {},
   "outputs": [
    {
     "data": {
      "text/plain": [
       "{'learn_rate': 0.001, 'momentum': 0.0, 'n_neurons': 300}"
      ]
     },
     "execution_count": 33,
     "metadata": {},
     "output_type": "execute_result"
    }
   ],
   "source": [
    "grid_result.best_params_"
   ]
  },
  {
   "cell_type": "code",
   "execution_count": 41,
   "metadata": {},
   "outputs": [
    {
     "name": "stdout",
     "output_type": "stream",
     "text": [
      "2 300 0.001\n",
      "Train on 60 samples\n",
      "Epoch 1/20\n",
      "60/60 [==============================] - 1s 21ms/sample - loss: 2.0286 - accuracy: 0.4500\n",
      "Epoch 2/20\n",
      "60/60 [==============================] - 1s 16ms/sample - loss: 0.6012 - accuracy: 0.9167\n",
      "Epoch 3/20\n",
      "60/60 [==============================] - 1s 17ms/sample - loss: 0.1527 - accuracy: 0.9333\n",
      "Epoch 4/20\n",
      "60/60 [==============================] - 1s 17ms/sample - loss: 0.0236 - accuracy: 1.0000\n",
      "Epoch 5/20\n",
      "60/60 [==============================] - 1s 17ms/sample - loss: 0.0129 - accuracy: 1.0000\n",
      "Epoch 6/20\n",
      "60/60 [==============================] - 1s 17ms/sample - loss: 0.0106 - accuracy: 1.0000\n",
      "Epoch 7/20\n",
      "60/60 [==============================] - 1s 17ms/sample - loss: 0.0091 - accuracy: 1.0000\n",
      "Epoch 8/20\n",
      "60/60 [==============================] - 1s 17ms/sample - loss: 0.0079 - accuracy: 1.0000\n",
      "Epoch 9/20\n",
      "60/60 [==============================] - 1s 17ms/sample - loss: 0.0071 - accuracy: 1.0000\n",
      "Epoch 10/20\n",
      "60/60 [==============================] - 1s 17ms/sample - loss: 0.0064 - accuracy: 1.0000\n",
      "Epoch 11/20\n",
      "60/60 [==============================] - 1s 21ms/sample - loss: 0.0058 - accuracy: 1.0000\n",
      "Epoch 12/20\n",
      "60/60 [==============================] - 2s 31ms/sample - loss: 0.0053 - accuracy: 1.0000\n",
      "Epoch 13/20\n",
      "60/60 [==============================] - 1s 19ms/sample - loss: 0.0049 - accuracy: 1.0000\n",
      "Epoch 14/20\n",
      "60/60 [==============================] - 1s 17ms/sample - loss: 0.0046 - accuracy: 1.0000\n",
      "Epoch 15/20\n",
      "60/60 [==============================] - 1s 17ms/sample - loss: 0.0043 - accuracy: 1.0000\n",
      "Epoch 16/20\n",
      "60/60 [==============================] - 1s 17ms/sample - loss: 0.0040 - accuracy: 1.0000\n",
      "Epoch 17/20\n",
      "60/60 [==============================] - 1s 17ms/sample - loss: 0.0038 - accuracy: 1.0000\n",
      "Epoch 18/20\n",
      "60/60 [==============================] - 1s 23ms/sample - loss: 0.0036 - accuracy: 1.0000\n",
      "Epoch 19/20\n",
      "60/60 [==============================] - 1s 22ms/sample - loss: 0.0034 - accuracy: 1.0000\n",
      "Epoch 20/20\n",
      "60/60 [==============================] - 1s 17ms/sample - loss: 0.0033 - accuracy: 1.0000\n"
     ]
    }
   ],
   "source": [
    "#TRAIN MODEL WITH BEST HYPERPARAMETERS ON ALL DATA\n",
    "best_learn_rate = grid_result.best_params_.get('learn_rate')\n",
    "best_momentum = grid_result.best_params_.get('momentum')\n",
    "best_n_neurons =grid_result.best_params_.get('n_neurons')\n",
    "\n",
    "model=create_model(n_hidden=2, n_neurons=best_n_neurons, learn_rate=best_learn_rate,\n",
    "                   momentum=best_momentum, nFeatures=nFeatures)\n",
    "\n",
    "historyBest = model.fit(X, Y, epochs=20, batch_size=6)\n",
    "\n",
    "#save model\n",
    "model.save(\"new_FFT_execution_final_optimized.h5\")\n"
   ]
  },
  {
   "cell_type": "markdown",
   "metadata": {},
   "source": [
    "Test on imagery values"
   ]
  },
  {
   "cell_type": "code",
   "execution_count": 42,
   "metadata": {},
   "outputs": [
    {
     "name": "stdout",
     "output_type": "stream",
     "text": [
      "\r",
      "6/6 [==============================] - 0s 21ms/sample - loss: 0.8307 - accuracy: 0.8333\n"
     ]
    },
    {
     "data": {
      "text/plain": [
       "[0.830707311630249, 0.8333333]"
      ]
     },
     "execution_count": 42,
     "metadata": {},
     "output_type": "execute_result"
    }
   ],
   "source": [
    "model.evaluate(dataHoldout, labelsHoldout)"
   ]
  },
  {
   "cell_type": "markdown",
   "metadata": {},
   "source": [
    "Analyze behavior of the best model."
   ]
  },
  {
   "cell_type": "code",
   "execution_count": 45,
   "metadata": {},
   "outputs": [],
   "source": [
    "import matplotlib.pyplot as plt\n",
    "def annotated_confusion_matrix(cm, class_names):\n",
    "    fig, ax = plt.subplots()\n",
    "    im = ax.imshow(cm)\n",
    "\n",
    "    # We want to show all ticks...\n",
    "    ax.set_xticks(np.arange(len(class_names)))\n",
    "    ax.set_yticks(np.arange(len(class_names)))\n",
    "    # ... and label them with the respective list entries\n",
    "    ax.set_xticklabels(class_names)\n",
    "    ax.set_yticklabels(class_names)\n",
    "    # Rotate the tick labels and set their alignment.\n",
    "    plt.setp(ax.get_xticklabels(), rotation=45, ha=\"right\",\n",
    "         rotation_mode=\"anchor\");\n",
    "    ax.set_ylabel('predicted')\n",
    "    ax.set_xlabel('exp. condition')\n",
    "\n",
    "\n",
    "    # Loop over data dimensions and create text annotations.\n",
    "    for i in range(len(class_names)):\n",
    "        for j in range(len(class_names)):\n",
    "            text = ax.text(j, i, cm[i, j],\n",
    "                       ha=\"center\", va=\"center\", color=\"w\")\n",
    "\n"
   ]
  },
  {
   "cell_type": "code",
   "execution_count": 46,
   "metadata": {},
   "outputs": [
    {
     "name": "stdout",
     "output_type": "stream",
     "text": [
      "labels:  [[0]\n",
      " [1]\n",
      " [2]\n",
      " [3]\n",
      " [4]\n",
      " [5]]\n",
      "predictions:  [0 1 2 3 0 5]\n"
     ]
    },
    {
     "data": {
      "image/png": "[encoded data removed]",
      "text/plain": [
       "<Figure size 432x288 with 1 Axes>"
      ]
     },
     "metadata": {
      "needs_background": "light"
     },
     "output_type": "display_data"
    }
   ],
   "source": [
    "from sklearn.metrics import confusion_matrix\n",
    "y_predHoldout = model.predict_classes(dataHoldout)\n",
    "print(\"labels: \", labelsHoldout)\n",
    "print(\"predictions: \", y_predHoldout)\n",
    "\n",
    "cm = confusion_matrix(labelsHoldout, y_predHoldout)\n",
    "annotated_confusion_matrix(cm, class_names)"
   ]
  },
  {
   "cell_type": "code",
   "execution_count": null,
   "metadata": {},
   "outputs": [],
   "source": []
  }
 ],
 "metadata": {
  "kernelspec": {
   "display_name": "Python 3",
   "language": "python",
   "name": "python3"
  },
  "language_info": {
   "codemirror_mode": {
    "name": "ipython",
    "version": 3
   },
   "file_extension": ".py",
   "mimetype": "text/x-python",
   "name": "python",
   "nbconvert_exporter": "python",
   "pygments_lexer": "ipython3",
   "version": "3.6.2"
  },
  "toc": {
   "base_numbering": 1,
   "nav_menu": {},
   "number_sections": true,
   "sideBar": true,
   "skip_h1_title": false,
   "title_cell": "Table of Contents",
   "title_sidebar": "Contents",
   "toc_cell": false,
   "toc_position": {},
   "toc_section_display": true,
   "toc_window_display": false
  }
 },
 "nbformat": 4,
 "nbformat_minor": 4
}
